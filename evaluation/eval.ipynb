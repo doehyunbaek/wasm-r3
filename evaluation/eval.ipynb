{
 "cells": [
  {
   "cell_type": "code",
   "execution_count": 19,
   "metadata": {},
   "outputs": [
    {
     "name": "stdout",
     "output_type": "stream",
     "text": [
      "Table saved to /home/don/rr-reduce-paper/issta_2025/table/eval_set.tex\n"
     ]
    }
   ],
   "source": [
    "import json\n",
    "import tabulate\n",
    "import evaluation\n",
    "\n",
    "# Load the JSON data\n",
    "with open(\"metrics.json\", \"r\") as f:\n",
    "    metrics = json.load(f)\n",
    "\n",
    "# Prepare the data for tabulation\n",
    "table_data = []\n",
    "headers = [\"Name\", \"Origin\", \"Faulty engine\", \"Size(Byte)\", \"Function Count\"]\n",
    "\n",
    "for test_name, data in metrics.items():\n",
    "    metadata = data['metadata']\n",
    "    table_data.append([\n",
    "        test_name,\n",
    "        metadata['origin'],\n",
    "        metadata['engine'],\n",
    "        metadata['size'],\n",
    "        metadata['function_count']\n",
    "    ])\n",
    "\n",
    "# Generate the LaTeX table\n",
    "latex_table = tabulate.tabulate(table_data, headers, tablefmt=\"latex_raw\")\n",
    "\n",
    "# Modify the LaTeX table string\n",
    "latex_table = latex_table.replace(\"#\", \"\\\\#\")\n",
    "\n",
    "# Save the table to a file\n",
    "rq1_table_path = f'{evaluation.PAPER_PATH}/table/eval_set.tex'\n",
    "with open(rq1_table_path, 'w') as file:\n",
    "    file.write(latex_table)\n",
    "    print(f\"Table saved to {rq1_table_path}\")"
   ]
  },
  {
   "cell_type": "code",
   "execution_count": 3,
   "metadata": {},
   "outputs": [
    {
     "name": "stdout",
     "output_type": "stream",
     "text": [
      "RQ1\n",
      "len(testset): 21\n",
      "RUNNING: wamr#2861 with 1 functions\n",
      "FINISHED: wamr#2861 in 2.237379789352417 seconds\n",
      "RUNNING: wasmedge#3018 with 12 functions\n",
      "FINISHED: wasmedge#3018 in 11.197264194488525 seconds\n",
      "RUNNING: wamr#2789 with 58 functions\n",
      "FINISHED: wamr#2789 in 45.468804597854614 seconds\n",
      "RUNNING: wamr#2450 with 66 functions\n",
      "FINISHED: wamr#2450 in 23.624891996383667 seconds\n",
      "RUNNING: wamr#2862 with 73 functions\n",
      "FINISHED: wamr#2862 in 26.244394063949585 seconds\n",
      "RUNNING: wasmedge#3019 with 76 functions\n",
      "FINISHED: wasmedge#3019 in 56.48368167877197 seconds\n",
      "RUNNING: wasmedge#3076 with 131 functions\n",
      "FINISHED: wasmedge#3076 in 97.36351919174194 seconds\n",
      "RUNNING: mandelbrot with 167 functions\n",
      "FINISHED: mandelbrot in 7.61648416519165 seconds\n",
      "RUNNING: guiicons with 505 functions\n",
      "FINISHED: guiicons in 387.5126144886017 seconds\n",
      "RUNNING: rguilayout with 510 functions\n",
      "FINISHED: rguilayout in 395.0798075199127 seconds\n",
      "RUNNING: rguistyler with 575 functions\n",
      "FINISHED: rguistyler in 450.84219622612 seconds\n",
      "RUNNING: riconpacker with 576 functions\n"
     ]
    }
   ],
   "source": [
    "!FIDX_LIMIT=1000 python rq1.py"
   ]
  },
  {
   "cell_type": "code",
   "execution_count": 21,
   "metadata": {},
   "outputs": [
    {
     "name": "stdout",
     "output_type": "stream",
     "text": [
      "\\begin{tabular}{lrll}\n",
      "\\hline\n",
      " Name          &   Function Count & Split Success   & Record and Replay Success   \\\\\n",
      "\\hline\n",
      " wamr\\#2861     &                1 & 1(100.00%)      & 1(100.00%)                  \\\\\n",
      " wasmedge\\#3018 &               12 & 12(100.00%)     & 4(33.33%)                   \\\\\n",
      " wamr\\#2789     &               58 & 58(100.00%)     & 38(65.52%)                  \\\\\n",
      " wamr\\#2450     &               66 & 66(100.00%)     & 61(92.42%)                  \\\\\n",
      " wamr\\#2862     &               73 & 73(100.00%)     & 73(100.00%)                 \\\\\n",
      " wasmedge\\#3019 &               76 & 76(100.00%)     & 70(92.11%)                  \\\\\n",
      " wasmedge\\#3076 &              131 & 131(100.00%)    & 127(96.95%)                 \\\\\n",
      " mandelbrot    &              167 & 0(0.00%)        & 0(0.00%)                    \\\\\n",
      " guiicons      &              505 & 505(100.00%)    & 358(70.89%)                 \\\\\n",
      " rguilayout    &              510 & 510(100.00%)    & 353(69.22%)                 \\\\\n",
      " rguistyler    &              575 & 575(100.00%)    & 410(71.30%)                 \\\\\n",
      " riconpacker   &              576 & 576(100.00%)    & 467(81.08%)                 \\\\\n",
      " rfxgen        &              587 & 587(100.00%)    & 438(74.62%)                 \\\\\n",
      " rtexviewer    &              688 & 688(100.00%)    & 688(100.00%)                \\\\\n",
      " wasmedge\\#3057 &             1006 & 1006(100.00%)   & 991(98.51%)                 \\\\\n",
      " funky-kart    &             1587 & 0(0.00%)        & 0(0.00%)                    \\\\\n",
      " hydro         &             1592 & 1591(99.94%)    & 1557(97.80%)                \\\\\n",
      " sqlgui        &             1895 & 1895(100.00%)   & 1476(77.89%)                \\\\\n",
      "\\hline\n",
      "\\end{tabular}\n",
      "Table saved to /home/don/rr-reduce-paper/issta_2025/table/rq1.tex\n"
     ]
    }
   ],
   "source": [
    "import json\n",
    "import tabulate\n",
    "import evaluation\n",
    "\n",
    "# Load the JSON data\n",
    "with open(\"metrics.json\", \"r\") as f:\n",
    "    metrics = json.load(f)\n",
    "\n",
    "# Prepare the data for tabulation\n",
    "table_data = []\n",
    "headers = [\"Name\", \"Function Count\",  \"Split Success\", \"Record and Replay Success\"]\n",
    "\n",
    "for test_name, data in metrics.items():\n",
    "    metadata = data['metadata']\n",
    "    try:\n",
    "        split_success = sum(1 for obj in data['rq1'].values() if obj['slice-dice'] != 'fail')\n",
    "        rr_success = sum(1 for obj in data['rq1'].values() if obj['wasm-r3'] != 'fail')\n",
    "        table_data.append([\n",
    "            test_name,\n",
    "            metadata['function_count'],\n",
    "            f'{split_success}({split_success / metadata[\"function_count\"]:.2%})',\n",
    "            f'{rr_success}({rr_success / metadata[\"function_count\"]:.2%})',\n",
    "        ])\n",
    "    except KeyError:\n",
    "        continue\n",
    "\n",
    "# Generate the LaTeX table\n",
    "latex_table = tabulate.tabulate(table_data, headers, tablefmt=\"latex_raw\")\n",
    "\n",
    "# Modify the LaTeX table string\n",
    "latex_table = latex_table.replace(\"#\", \"\\\\#\")\n",
    "\n",
    "# Save the table to a file\n",
    "rq1_table_path = f'{evaluation.PAPER_PATH}/table/rq1.tex'\n",
    "with open(rq1_table_path, 'w') as file:\n",
    "    file.write(latex_table)\n",
    "    print(latex_table)\n",
    "    print(f\"Table saved to {rq1_table_path}\")"
   ]
  },
  {
   "cell_type": "code",
   "execution_count": 6,
   "metadata": {},
   "outputs": [
    {
     "name": "stdout",
     "output_type": "stream",
     "text": [
      "['boa', 'guiicons', 'funky-kart', 'jsc', 'rfxgen', 'rguilayout', 'rguistyler', 'riconpacker', 'sqlgui', 'commanderkeen', 'hydro', 'rtexviewer', 'mandelbrot', 'wasmedge#3057', 'wasmedge#3076', 'wamr#2450', 'wasmedge#3019', 'wamr#2789', 'wamr#2862', 'wasmedge#3018', 'wamr#2861']\n",
      "len(testset): 21\n"
     ]
    }
   ],
   "source": [
    "!python rq2.py"
   ]
  },
  {
   "cell_type": "code",
   "execution_count": null,
   "metadata": {},
   "outputs": [],
   "source": [
    "import tabulate\n",
    "import eval"
   ]
  }
 ],
 "metadata": {
  "kernelspec": {
   "display_name": "Python 3",
   "language": "python",
   "name": "python3"
  },
  "language_info": {
   "codemirror_mode": {
    "name": "ipython",
    "version": 3
   },
   "file_extension": ".py",
   "mimetype": "text/x-python",
   "name": "python",
   "nbconvert_exporter": "python",
   "pygments_lexer": "ipython3",
   "version": "3.12.4"
  }
 },
 "nbformat": 4,
 "nbformat_minor": 2
}
