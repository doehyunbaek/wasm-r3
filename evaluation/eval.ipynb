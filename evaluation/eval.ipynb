{
 "cells": [
  {
   "cell_type": "code",
   "execution_count": 4,
   "metadata": {},
   "outputs": [
    {
     "name": "stdout",
     "output_type": "stream",
     "text": [
      "RQ1\n",
      "RUNNING: wamr#2861 with 1 functions\n",
      "FINISHED: wamr#2861 in 0.0005226731300354004 minutes\n",
      "RUNNING: wasmedge#3018 with 12 functions\n",
      "FINISHED: wasmedge#3018 in 0.0006904959678649903 minutes\n",
      "RUNNING: wamr#2789 with 58 functions\n",
      "FINISHED: wamr#2789 in 2.0017606178919474 minutes\n",
      "RUNNING: wamr#2450 with 66 functions\n",
      "FINISHED: wamr#2450 in 0.0005558609962463378 minutes\n",
      "RUNNING: wamr#2862 with 73 functions\n",
      "FINISHED: wamr#2862 in 0.0005324681599934896 minutes\n",
      "RUNNING: wasmedge#3019 with 76 functions\n",
      "FINISHED: wasmedge#3019 in 0.0005364894866943359 minutes\n",
      "RUNNING: wasmedge#3076 with 131 functions\n",
      "FINISHED: wasmedge#3076 in 0.0005415439605712891 minutes\n",
      "RUNNING: mandelbrot with 167 functions\n",
      "FINISHED: mandelbrot in 0.000533743699391683 minutes\n",
      "RUNNING: guiicons with 505 functions\n",
      "FINISHED: guiicons in 0.00053253968556722 minutes\n",
      "RUNNING: rguilayout with 510 functions\n",
      "FINISHED: rguilayout in 0.0005095998446146647 minutes\n",
      "RUNNING: rguistyler with 575 functions\n",
      "FINISHED: rguistyler in 0.000521401564280192 minutes\n",
      "RUNNING: riconpacker with 576 functions\n",
      "FINISHED: riconpacker in 0.0005232771237691243 minutes\n",
      "RUNNING: rfxgen with 587 functions\n",
      "FINISHED: rfxgen in 0.0005228559176127116 minutes\n",
      "RUNNING: rtexviewer with 688 functions\n",
      "FINISHED: rtexviewer in 0.0005233645439147949 minutes\n",
      "RUNNING: wasmedge#3057 with 1000 functions\n",
      "FINISHED: wasmedge#3057 in 0.000522764523824056 minutes\n",
      "RUNNING: funky-kart with 1000 functions\n",
      "FINISHED: funky-kart in 0.0005223751068115234 minutes\n",
      "RUNNING: hydro with 1000 functions\n",
      "FINISHED: hydro in 0.0005217274030049642 minutes\n",
      "RUNNING: sqlgui with 1000 functions\n",
      "FINISHED: sqlgui in 0.0005243539810180664 minutes\n",
      "RUNNING: commanderkeen with 1000 functions\n",
      "FINISHED: commanderkeen in 2.587091628710429 minutes\n",
      "RUNNING: boa with 1000 functions\n",
      "FINISHED: boa in 0.0005249341328938802 minutes\n",
      "RUNNING: jsc with 1000 functions\n",
      "FINISHED: jsc in 2.7533732891082763 minutes\n",
      "Total time: 7.351891672611236 minutes\n"
     ]
    }
   ],
   "source": [
    "# 8 threads\n",
    "# 14 tests < 1000 fidx takes around 2h\n",
    "# !TEST_NAME='jsc' FIDX_LIMIT=1000 python rq1.py # 42 mins\n",
    "# !TEST_NAME='boa' FIDX_LIMIT=1000 python rq1.py # 58 mins\n",
    "# !TEST_NAME='commanderkeen' FIDX_LIMIT=1000 python rq1.py # 144 mins\n",
    "# !TEST_NAME='funky-kart' FIDX_LIMIT=1000 python rq1.py # 155 mins\n",
    "!FIDX_LIMIT=1000 ONLY_FAIL=True python rq1.py"
   ]
  },
  {
   "cell_type": "code",
   "execution_count": 5,
   "metadata": {},
   "outputs": [
    {
     "name": "stdout",
     "output_type": "stream",
     "text": [
      "len(testset): 1\n",
      "CompletedProcess(args='timeout 10s wizard-0d6926f -no-names -mode=int /home/don/wasm-r3/benchmarks/sqlgui/sqlgui.sliced.wasm', returncode=10, stdout='<wasm func #0> +131\\n  <wasm func #1> +65779\\n    !trap[UNREACHABLE]\\n', stderr='')\n",
      "CompletedProcess(args='timeout 5s wasmtime --invoke main /home/don/wasm-r3/benchmarks/sqlgui/sqlgui.sliced.wasm', returncode=0, stdout='', stderr='')\n",
      "Interesting!\n"
     ]
    }
   ],
   "source": [
    "short_case = [\n",
    "    \"boa\",\n",
    "    \"funky-kart\",\n",
    "    \"guiicons\",\n",
    "    \"jsc\",\n",
    "    \"mandelbrot\",\n",
    "    \"rfxgen\",\n",
    "    \"rguilayout\",\n",
    "    \"rguistyler\",\n",
    "    \"riconpacker\",\n",
    "    \"sqlgui\",\n",
    "    \"wamr#2450\",\n",
    "    \"wamr#2789\",\n",
    "    \"wamr#2861\",\n",
    "    \"wamr#2862\",\n",
    "    \"wasmedge#3018\",\n",
    "    \"wasmedge#3019\",\n",
    "    \"wasmedge#3057\",\n",
    "]\n",
    "long_case = [\"commanderkeen\", \"rtexviewer\", \"hydro\", \"wasmedge#3076\"]\n",
    "\n",
    "!TEST_NAMES={','.join(short_case)} python rq2.py wasm-slice # 5 mins\n",
    "!TEST_NAMES={','.join(long_case)} python rq2.py wasm-slice # 1 hour"
   ]
  },
  {
   "cell_type": "code",
   "execution_count": null,
   "metadata": {},
   "outputs": [],
   "source": [
    "!MAX_WORKER=1 python rq2.py wasm-reduce"
   ]
  },
  {
   "cell_type": "code",
   "execution_count": null,
   "metadata": {},
   "outputs": [
    {
     "name": "stdout",
     "output_type": "stream",
     "text": [
      "len(testset): 21\n",
      "Running in single thread mode\n",
      "Interesting!\n",
      "Interesting!\n",
      "Interesting!\n",
      "Interesting!\n",
      "Interesting!\n",
      "Interesting!\n",
      "Interesting!\n",
      "Interesting!\n",
      "Interesting!\n",
      "Interesting!\n",
      "Interesting!\n",
      "Interesting!\n",
      "Interesting!\n",
      "Interesting!\n",
      "Interesting!\n",
      "Interesting!\n",
      "Interesting!\n",
      "Interesting!\n",
      "CompletedProcess(args='timeout 10s wizard-0d6926f -no-names -mode=spc /home/don/wasm-r3/benchmarks/commanderkeen/commanderkeen.shrunken.wasm', returncode=10, stdout='!trap[STACK_OVERFLOW]\\n', stderr='')\n",
      "CompletedProcess(args='timeout 5s wasmtime --invoke main /home/don/wasm-r3/benchmarks/commanderkeen/commanderkeen.shrunken.wasm', returncode=0, stdout='', stderr='')\n",
      "Interesting!\n",
      "Interesting!\n"
     ]
    }
   ],
   "source": [
    "!MAX_WORKER=1 python rq2.py wasm-shrink"
   ]
  },
  {
   "cell_type": "code",
   "execution_count": 18,
   "metadata": {},
   "outputs": [],
   "source": [
    "!python rq4.py"
   ]
  },
  {
   "cell_type": "code",
   "execution_count": 53,
   "metadata": {},
   "outputs": [],
   "source": [
    "import json, re\n",
    "from heuristics_finder import get_dynamic_fidx\n",
    "from sanity_check import extract_code_bytes\n",
    "from evaluation import sh\n",
    "\n",
    "\n",
    "with open(\"metrics.json\", \"r\") as f:\n",
    "    metrics = json.load(f)\n",
    "\n",
    "tests = list(metrics.keys())\n",
    "tests.remove('rq4')\n",
    "for test in tests:\n",
    "    input_path = f'~/wasm-r3/benchmarks/{test}/{test}.wasm'\n",
    "    code_size = extract_code_bytes(sh(f'wasm-tools objdump {input_path}'))\n",
    "    metrics[test]['metadata']['code_size'] = code_size\n",
    "#     didx = get_dynamic_fidx(f'~/wasm-r3/benchmarks/{test}/{test}.wasm')\n",
    "#     try:\n",
    "#         for i in range(metrics[test]['metadata']['function_count']):\n",
    "#             if metrics[test]['rq1'].get(str(i)) is None:\n",
    "#                 continue\n",
    "#             if i in didx:\n",
    "#                 metrics[test]['rq1'][str(i)]['is-executed'] = False\n",
    "#             else:\n",
    "#                 metrics[test]['rq1'][str(i)]['is-executed'] = True\n",
    "#     except:\n",
    "#         print(f'test: {test}, i: {i}')\n",
    "\n",
    "def extract_test_fidx(path):\n",
    "    # Extract the test name (e.g., 'boa') and the fidx (e.g., 366)\n",
    "    m = re.search(r'/benchmarks/([\\w#-]+)/out/(\\d+)/', path)\n",
    "    if m:\n",
    "        test_name = m.group(1)\n",
    "        fidx = int(m.group(2))\n",
    "        return [test_name, fidx]\n",
    "    raise Exception(f\"Failed to extract test name and fidx from {path}\")\n",
    "unit_path = '/home/don/wasm-r3/benchmarks/boa/out/366/benchmarks/bin_1/replay.wasm'\n",
    "assert extract_test_fidx(unit_path) == ['boa', 366]\n",
    "\n",
    "paths = !find ~/wasm-r3/benchmarks/ | rg replay.wasm\n",
    "for path in paths:\n",
    "    test_name, fidx = extract_test_fidx(path)\n",
    "    code_size = extract_code_bytes(sh(f'wasm-tools objdump {path}'))\n",
    "    try:\n",
    "        metrics[test_name]['rq1'][str(fidx)]['sliced_code_size'] = code_size\n",
    "    except:\n",
    "        pass \n",
    "\n",
    "with open(\"metrics.json\", \"w\") as f:\n",
    "    json.dump(metrics, f, indent=4)"
   ]
  }
 ],
 "metadata": {
  "kernelspec": {
   "display_name": "Python 3",
   "language": "python",
   "name": "python3"
  },
  "language_info": {
   "codemirror_mode": {
    "name": "ipython",
    "version": 3
   },
   "file_extension": ".py",
   "mimetype": "text/x-python",
   "name": "python",
   "nbconvert_exporter": "python",
   "pygments_lexer": "ipython3",
   "version": "3.12.4"
  }
 },
 "nbformat": 4,
 "nbformat_minor": 2
}
