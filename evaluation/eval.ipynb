{
 "cells": [
  {
   "cell_type": "code",
   "execution_count": 3,
   "metadata": {},
   "outputs": [
    {
     "name": "stdout",
     "output_type": "stream",
     "text": [
      "RQ1\n",
      "len(testset): 8\n",
      "^C\n"
     ]
    }
   ],
   "source": [
    "!python rq1.py"
   ]
  },
  {
   "cell_type": "code",
   "execution_count": null,
   "metadata": {},
   "outputs": [],
   "source": [
    "import tabulate\n",
    "import eval\n",
    "testset = eval.testset\n",
    "\n",
    "def draw():\n",
    "    import matplotlib.pyplot as plt\n",
    "    import json\n",
    "\n",
    "    # Parse the JSON data\n",
    "    with open('metrics.json', 'r') as f:\n",
    "        metrics = json.load(f)\n",
    "\n",
    "    # Initialize lists for storing counts\n",
    "    tests = []\n",
    "    int_counts = []\n",
    "    fail_counts = []\n",
    "\n",
    "    # Extract metrics for plotting\n",
    "    for test_name, test_data in metrics.items():\n",
    "        if test_name not in testset:\n",
    "            continue\n",
    "        int_count = 0\n",
    "        fail_count = 0\n",
    "        for item in test_data.values():\n",
    "            value = item.get('wasm-r3')\n",
    "            if isinstance(value, int):\n",
    "                int_count += 1\n",
    "            elif value == \"fail\":\n",
    "                fail_count += 1\n",
    "\n",
    "        if int_count > 0 or fail_count > 0:\n",
    "            tests.append(test_name)\n",
    "            int_counts.append(int_count)\n",
    "            fail_counts.append(fail_count)\n",
    "\n",
    "    # Sort data\n",
    "    sorted_data = sorted(zip(tests, int_counts, fail_counts), key=lambda x: x[1] + x[2], reverse=True)\n",
    "    tests, int_counts, fail_counts = zip(*sorted_data)\n",
    "\n",
    "    # Define color blind-friendly colors\n",
    "    color_int = '#0072B2'  # Blue\n",
    "    color_fail = '#D55E00'  # Vermilion\n",
    "\n",
    "    # Create the plot\n",
    "    fig, ax = plt.subplots(figsize=(12, max(6, len(tests) * 0.4)))\n",
    "\n",
    "    # Plot horizontal bars\n",
    "    y_pos = range(len(tests))\n",
    "    bars_int = ax.barh(y_pos, int_counts, align='center', color=color_int, alpha=0.8, label='Pass Cases')\n",
    "    bars_fail = ax.barh(y_pos, fail_counts, align='center', color=color_fail, alpha=0.8, label='Fail Cases',\n",
    "                        left=int_counts)  # This places the red bars after the blue bars\n",
    "\n",
    "    # Customize the plot\n",
    "    ax.set_yticks(y_pos)\n",
    "    ax.set_yticklabels(tests)\n",
    "    ax.invert_yaxis()  # Labels read top-to-bottom\n",
    "    ax.set_xlabel('Count')\n",
    "    ax.set_title('Test Performance: Pass vs Fail Cases')\n",
    "\n",
    "    # Add grid lines\n",
    "    ax.grid(axis='x', linestyle='--', alpha=0.7)\n",
    "\n",
    "    # Add value labels on the bars\n",
    "    for i, (bar_int, bar_fail) in enumerate(zip(bars_int, bars_fail)):\n",
    "        int_width = bar_int.get_width()\n",
    "        fail_width = bar_fail.get_width()\n",
    "        total_width = int_width + fail_width\n",
    "\n",
    "        # Label for integer cases\n",
    "        if int_width > 0:\n",
    "            ax.text(int_width / 2, bar_int.get_y() + bar_int.get_height()/2, f'{int_width}',\n",
    "                    ha='center', va='center', fontweight='bold', color='white')\n",
    "\n",
    "        # Label for fail cases\n",
    "        if fail_width > 0:\n",
    "            ax.text(int_width + fail_width / 2, bar_fail.get_y() + bar_fail.get_height()/2, f'{fail_width}',\n",
    "                    ha='center', va='center', fontweight='bold', color='white')\n",
    "\n",
    "        # Total count at the end of the bar\n",
    "        ax.text(total_width + 0.5, bar_int.get_y() + bar_int.get_height()/2, f'{total_width}',\n",
    "                ha='left', va='center', fontweight='bold', color='black')\n",
    "\n",
    "    # Add a legend\n",
    "    ax.legend(loc='lower right')\n",
    "\n",
    "    # Remove spines\n",
    "    ax.spines['top'].set_visible(False)\n",
    "    ax.spines['right'].set_visible(False)\n",
    "\n",
    "    # Adjust layout and display the plot\n",
    "    plt.tight_layout()\n",
    "    plt.show()\n",
    "def stat():\n",
    "    import json\n",
    "\n",
    "    # Parse the JSON data\n",
    "    with open('metrics.json', 'r') as f:\n",
    "        metrics = json.load(f)\n",
    "\n",
    "    # Initialize counters\n",
    "    total_tests = len(metrics)\n",
    "    total_integer_cases = 0\n",
    "    total_fail_cases = 0\n",
    "\n",
    "    # Calculate total integer and fail cases\n",
    "    for test_name, test_data in metrics.items():\n",
    "        if test_name not in testset:\n",
    "            continue\n",
    "        for item in test_data.values():\n",
    "            value = item.get('wasm-r3')\n",
    "            if isinstance(value, int):\n",
    "                total_integer_cases += 1\n",
    "            elif value == \"fail\":\n",
    "                total_fail_cases += 1\n",
    "\n",
    "    # Print statistics\n",
    "    print(f'pass | total: {total_integer_cases}/{total_integer_cases + total_fail_cases}')\n",
    "    print(f'pass rate: {total_integer_cases / (total_integer_cases + total_fail_cases) * 100}%')\n",
    "stat()\n",
    "draw()"
   ]
  },
  {
   "cell_type": "code",
   "execution_count": 6,
   "metadata": {},
   "outputs": [
    {
     "name": "stdout",
     "output_type": "stream",
     "text": [
      "['boa', 'guiicons', 'funky-kart', 'jsc', 'rfxgen', 'rguilayout', 'rguistyler', 'riconpacker', 'sqlgui', 'commanderkeen', 'hydro', 'rtexviewer', 'mandelbrot', 'wasmedge#3057', 'wasmedge#3076', 'wamr#2450', 'wasmedge#3019', 'wamr#2789', 'wamr#2862', 'wasmedge#3018', 'wamr#2861']\n",
      "len(testset): 21\n"
     ]
    }
   ],
   "source": [
    "!python rq2.py"
   ]
  },
  {
   "cell_type": "code",
   "execution_count": null,
   "metadata": {},
   "outputs": [],
   "source": [
    "import tabulate\n",
    "import eval"
   ]
  }
 ],
 "metadata": {
  "kernelspec": {
   "display_name": "Python 3",
   "language": "python",
   "name": "python3"
  },
  "language_info": {
   "codemirror_mode": {
    "name": "ipython",
    "version": 3
   },
   "file_extension": ".py",
   "mimetype": "text/x-python",
   "name": "python",
   "nbconvert_exporter": "python",
   "pygments_lexer": "ipython3",
   "version": "3.12.4"
  }
 },
 "nbformat": 4,
 "nbformat_minor": 2
}
