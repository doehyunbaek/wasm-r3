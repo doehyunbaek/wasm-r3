{
 "cells": [
  {
   "cell_type": "code",
   "execution_count": 38,
   "metadata": {},
   "outputs": [
    {
     "name": "stdout",
     "output_type": "stream",
     "text": [
      "Enumeration of benchmarks and fidxs done.\n",
      "Number of benchmarks: 27\n",
      "Number of single function benchmarks: 7750\n",
      "jsc: 2436\n",
      "bullet: 1251\n",
      "funky-kart: 945\n",
      "sqlgui: 625\n",
      "commanderkeen: 580\n",
      "boa: 462\n",
      "rfxgen: 229\n",
      "rguistyler: 190\n",
      "rguilayout: 186\n",
      "pacalc: 176\n",
      "guiicons: 167\n",
      "riconpacker: 162\n",
      "figma-startpage: 93\n",
      "pathfinding: 57\n",
      "hydro: 53\n",
      "mandelbrot: 37\n",
      "parquet: 37\n",
      "sandspiel: 28\n",
      "factorial: 15\n",
      "jqkungfu: 6\n",
      "ffmpeg: 6\n",
      "game-of-life: 2\n",
      "rtexviewer: 2\n",
      "rtexpacker: 2\n",
      "fib: 1\n",
      "multiplyInt: 1\n",
      "multiplyDouble: 1\n"
     ]
    }
   ],
   "source": [
    "import json\n",
    "!python get_benchmark_fidx.py\n",
    "with open('metrics.json', 'r') as f:  metrics = json.load(f)\n",
    "\n",
    "print(f'Number of benchmarks: {len(metrics)}')\n",
    "print(f'Number of single function benchmarks: {sum([len(metrics[test]) for test in metrics])}')\n",
    "for k in sorted(metrics , key=lambda x: len(metrics[x]), reverse=True):\n",
    "    print(f'{k}: {len(metrics[k])}')"
   ]
  },
  {
   "cell_type": "code",
   "execution_count": 45,
   "metadata": {},
   "outputs": [
    {
     "name": "stdout",
     "output_type": "stream",
     "text": [
      "Slicedice run on all candidate benchmarks and fidx\n"
     ]
    }
   ],
   "source": [
    "import json\n",
    "!TEST_NAME=figma-startpage python run_slicedice.py\n",
    "with open('metrics.json', 'r') as f:  metrics = json.load(f)"
   ]
  }
 ],
 "metadata": {
  "kernelspec": {
   "display_name": "Python 3",
   "language": "python",
   "name": "python3"
  },
  "language_info": {
   "codemirror_mode": {
    "name": "ipython",
    "version": 3
   },
   "file_extension": ".py",
   "mimetype": "text/x-python",
   "name": "python",
   "nbconvert_exporter": "python",
   "pygments_lexer": "ipython3",
   "version": "3.12.4"
  }
 },
 "nbformat": 4,
 "nbformat_minor": 2
}
