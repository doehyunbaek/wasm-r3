{
 "cells": [
  {
   "cell_type": "code",
   "execution_count": 4,
   "metadata": {},
   "outputs": [
    {
     "name": "stdout",
     "output_type": "stream",
     "text": [
      "RQ1\n",
      "RUNNING: wamr#2861 with 1 functions\n",
      "FINISHED: wamr#2861 in 0.0005226731300354004 minutes\n",
      "RUNNING: wasmedge#3018 with 12 functions\n",
      "FINISHED: wasmedge#3018 in 0.0006904959678649903 minutes\n",
      "RUNNING: wamr#2789 with 58 functions\n",
      "FINISHED: wamr#2789 in 2.0017606178919474 minutes\n",
      "RUNNING: wamr#2450 with 66 functions\n",
      "FINISHED: wamr#2450 in 0.0005558609962463378 minutes\n",
      "RUNNING: wamr#2862 with 73 functions\n",
      "FINISHED: wamr#2862 in 0.0005324681599934896 minutes\n",
      "RUNNING: wasmedge#3019 with 76 functions\n",
      "FINISHED: wasmedge#3019 in 0.0005364894866943359 minutes\n",
      "RUNNING: wasmedge#3076 with 131 functions\n",
      "FINISHED: wasmedge#3076 in 0.0005415439605712891 minutes\n",
      "RUNNING: mandelbrot with 167 functions\n",
      "FINISHED: mandelbrot in 0.000533743699391683 minutes\n",
      "RUNNING: guiicons with 505 functions\n",
      "FINISHED: guiicons in 0.00053253968556722 minutes\n",
      "RUNNING: rguilayout with 510 functions\n",
      "FINISHED: rguilayout in 0.0005095998446146647 minutes\n",
      "RUNNING: rguistyler with 575 functions\n",
      "FINISHED: rguistyler in 0.000521401564280192 minutes\n",
      "RUNNING: riconpacker with 576 functions\n",
      "FINISHED: riconpacker in 0.0005232771237691243 minutes\n",
      "RUNNING: rfxgen with 587 functions\n",
      "FINISHED: rfxgen in 0.0005228559176127116 minutes\n",
      "RUNNING: rtexviewer with 688 functions\n",
      "FINISHED: rtexviewer in 0.0005233645439147949 minutes\n",
      "RUNNING: wasmedge#3057 with 1000 functions\n",
      "FINISHED: wasmedge#3057 in 0.000522764523824056 minutes\n",
      "RUNNING: funky-kart with 1000 functions\n",
      "FINISHED: funky-kart in 0.0005223751068115234 minutes\n",
      "RUNNING: hydro with 1000 functions\n",
      "FINISHED: hydro in 0.0005217274030049642 minutes\n",
      "RUNNING: sqlgui with 1000 functions\n",
      "FINISHED: sqlgui in 0.0005243539810180664 minutes\n",
      "RUNNING: commanderkeen with 1000 functions\n",
      "FINISHED: commanderkeen in 2.587091628710429 minutes\n",
      "RUNNING: boa with 1000 functions\n",
      "FINISHED: boa in 0.0005249341328938802 minutes\n",
      "RUNNING: jsc with 1000 functions\n",
      "FINISHED: jsc in 2.7533732891082763 minutes\n",
      "Total time: 7.351891672611236 minutes\n"
     ]
    }
   ],
   "source": [
    "# 8 threads\n",
    "# 14 tests < 1000 fidx takes around 2h\n",
    "# !TEST_NAME='jsc' FIDX_LIMIT=1000 python rq1.py # 42 mins\n",
    "# !TEST_NAME='boa' FIDX_LIMIT=1000 python rq1.py # 58 mins\n",
    "# !TEST_NAME='commanderkeen' FIDX_LIMIT=1000 python rq1.py # 144 mins\n",
    "# !TEST_NAME='funky-kart' FIDX_LIMIT=1000 python rq1.py # 155 mins\n",
    "!FIDX_LIMIT=1000 ONLY_FAIL=True python rq1.py"
   ]
  },
  {
   "cell_type": "code",
   "execution_count": 6,
   "metadata": {},
   "outputs": [
    {
     "name": "stdout",
     "output_type": "stream",
     "text": [
      "['boa', 'guiicons', 'funky-kart', 'jsc', 'rfxgen', 'rguilayout', 'rguistyler', 'riconpacker', 'sqlgui', 'commanderkeen', 'hydro', 'rtexviewer', 'mandelbrot', 'wasmedge#3057', 'wasmedge#3076', 'wamr#2450', 'wasmedge#3019', 'wamr#2789', 'wamr#2862', 'wasmedge#3018', 'wamr#2861']\n",
      "len(testset): 21\n"
     ]
    }
   ],
   "source": [
    "!python rq2.py"
   ]
  }
 ],
 "metadata": {
  "kernelspec": {
   "display_name": "Python 3",
   "language": "python",
   "name": "python3"
  },
  "language_info": {
   "codemirror_mode": {
    "name": "ipython",
    "version": 3
   },
   "file_extension": ".py",
   "mimetype": "text/x-python",
   "name": "python",
   "nbconvert_exporter": "python",
   "pygments_lexer": "ipython3",
   "version": "3.12.4"
  }
 },
 "nbformat": 4,
 "nbformat_minor": 2
}
