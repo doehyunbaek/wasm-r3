{
 "cells": [
  {
   "cell_type": "code",
   "execution_count": 15,
   "metadata": {},
   "outputs": [
    {
     "name": "stdout",
     "output_type": "stream",
     "text": [
      "RQ1\n",
      "WARNING: CSV output not found for wamr#2789\n",
      "RUNNING: wamr#2789 with 0 functions\n",
      "FINISHED: wamr#2789 in 0.0008940498034159342 minutes\n",
      "Total time: 0.0008942325909932455 minutes\n"
     ]
    }
   ],
   "source": [
    "short_case = [\n",
    "    \"wasmedge#3018\",\n",
    "    \"wamr#2789\",\n",
    "    \"wamr#2450\",\n",
    "    \"wamr#2862\",\n",
    "    \"wasmedge#3019\",\n",
    "    \"wasmedge#3076\",\n",
    "    \"mandelbrot\",\n",
    "    \"guiicons\",\n",
    "    \"rguilayout\",\n",
    "    \"rguistyler\",\n",
    "    \"riconpacker\",\n",
    "    \"rfxgen\",\n",
    "    \"rtexviewer\",\n",
    "    \"wasmedge#3057\",\n",
    "    \"hydro\",\n",
    "    \"sqlgui\",\n",
    "    \"boa\",\n",
    "]\n",
    "!TEST_NAME='wamr#2789' python rq1.py # 89m\n",
    "# !TEST_NAME='commanderkeen' python rq1.py # 89m\n",
    "# !TEST_NAME='jsc' python rq1.py # 104m\n",
    "# !TEST_NAME='funky-kart' python rq1.py # 161m"
   ]
  },
  {
   "cell_type": "code",
   "execution_count": 16,
   "metadata": {},
   "outputs": [],
   "source": [
    "import json, re\n",
    "from heuristics_finder import get_dynamic_fidx\n",
    "from sanity_check import extract_code_bytes\n",
    "from evaluation import sh\n",
    "\n",
    "with open(\"metrics.json\", \"r\") as f:\n",
    "    metrics = json.load(f)\n",
    "\n",
    "# tests = list(metrics.keys())\n",
    "# # wamr#2789 is dealt manually because wizard can't report on nonterminating program\n",
    "# for test in tests:\n",
    "#     input_path = f'~/wasm-r3/benchmarks/{test}/{test}.wasm'\n",
    "#     didx = get_dynamic_fidx(f'~/wasm-r3/benchmarks/{test}/{test}.wasm')\n",
    "#     metrics[test]['metadata']['dynamic_function_count'] = len(didx)\n",
    "#     print(f'test: {test}, didx: {didx}')\n",
    "#     try:\n",
    "#         for i in range(metrics[test]['metadata']['function_count']):\n",
    "#             if metrics[test]['rq1'].get(str(i)) is None:\n",
    "#                 continue\n",
    "#             if i in didx:\n",
    "#                 metrics[test]['rq1'][str(i)]['is-executed'] = True\n",
    "#             else:\n",
    "#                 metrics[test]['rq1'][str(i)]['is-executed'] = False\n",
    "#     except:\n",
    "#         print(f'test: {test}, i: {i}')\n",
    "\n",
    "def extract_test_fidx(path):\n",
    "    # Extract the test name (e.g., 'boa') and the fidx (e.g., 366)\n",
    "    m = re.search(r'/benchmarks/([\\w#-]+)/out/(\\d+)/', path)\n",
    "    if m:\n",
    "        test_name = m.group(1)\n",
    "        fidx = int(m.group(2))\n",
    "        return [test_name, fidx]\n",
    "    raise Exception(f\"Failed to extract test name and fidx from {path}\")\n",
    "unit_path = '/home/don/wasm-r3/benchmarks/boa/out/366/benchmarks/bin_1/replay.wasm'\n",
    "assert extract_test_fidx(unit_path) == ['boa', 366]\n",
    "\n",
    "paths = !find ~/wasm-r3/benchmarks/ | rg replay.wasm\n",
    "for path in paths:\n",
    "    test_name, fidx = extract_test_fidx(path)\n",
    "    code_size = extract_code_bytes(sh(f'wasm-tools objdump {path}'))\n",
    "    try:\n",
    "        metrics[test_name]['rq1'][str(fidx)]['sliced_code_size'] = code_size\n",
    "    except:\n",
    "        pass\n",
    "with open(\"metrics.json\", \"w\") as f:\n",
    "    json.dump(metrics, f, indent=4)"
   ]
  },
  {
   "cell_type": "code",
   "execution_count": 5,
   "metadata": {},
   "outputs": [
    {
     "name": "stdout",
     "output_type": "stream",
     "text": [
      "len(testset): 1\n",
      "CompletedProcess(args='timeout 10s wizard-0d6926f -no-names -mode=int /home/don/wasm-r3/benchmarks/sqlgui/sqlgui.sliced.wasm', returncode=10, stdout='<wasm func #0> +131\\n  <wasm func #1> +65779\\n    !trap[UNREACHABLE]\\n', stderr='')\n",
      "CompletedProcess(args='timeout 5s wasmtime --invoke main /home/don/wasm-r3/benchmarks/sqlgui/sqlgui.sliced.wasm', returncode=0, stdout='', stderr='')\n",
      "Interesting!\n"
     ]
    }
   ],
   "source": [
    "short_case = [\n",
    "    \"boa\",\n",
    "    \"funky-kart\",\n",
    "    \"guiicons\",\n",
    "    \"jsc\",\n",
    "    \"mandelbrot\",\n",
    "    \"rfxgen\",\n",
    "    \"rguilayout\",\n",
    "    \"rguistyler\",\n",
    "    \"riconpacker\",\n",
    "    \"sqlgui\",\n",
    "    \"wamr#2450\",\n",
    "    \"wamr#2789\",\n",
    "    \"wamr#2861\",\n",
    "    \"wamr#2862\",\n",
    "    \"wasmedge#3018\",\n",
    "    \"wasmedge#3019\",\n",
    "    \"wasmedge#3057\",\n",
    "]\n",
    "long_case = [\"commanderkeen\", \"rtexviewer\", \"hydro\", \"wasmedge#3076\"]\n",
    "\n",
    "!TEST_NAMES={','.join(short_case)} python rq2.py wasm-slice # 5 mins\n",
    "!TEST_NAMES={','.join(long_case)} python rq2.py wasm-slice # 1 hour"
   ]
  },
  {
   "cell_type": "code",
   "execution_count": null,
   "metadata": {},
   "outputs": [],
   "source": [
    "!MAX_WORKER=1 python rq2.py wasm-reduce"
   ]
  },
  {
   "cell_type": "code",
   "execution_count": null,
   "metadata": {},
   "outputs": [
    {
     "name": "stdout",
     "output_type": "stream",
     "text": [
      "len(testset): 21\n",
      "Running in single thread mode\n",
      "Interesting!\n",
      "Interesting!\n",
      "Interesting!\n",
      "Interesting!\n",
      "Interesting!\n",
      "Interesting!\n",
      "Interesting!\n",
      "Interesting!\n",
      "Interesting!\n",
      "Interesting!\n",
      "Interesting!\n",
      "Interesting!\n",
      "Interesting!\n",
      "Interesting!\n",
      "Interesting!\n",
      "Interesting!\n",
      "Interesting!\n",
      "Interesting!\n",
      "CompletedProcess(args='timeout 10s wizard-0d6926f -no-names -mode=spc /home/don/wasm-r3/benchmarks/commanderkeen/commanderkeen.shrunken.wasm', returncode=10, stdout='!trap[STACK_OVERFLOW]\\n', stderr='')\n",
      "CompletedProcess(args='timeout 5s wasmtime --invoke main /home/don/wasm-r3/benchmarks/commanderkeen/commanderkeen.shrunken.wasm', returncode=0, stdout='', stderr='')\n",
      "Interesting!\n",
      "Interesting!\n"
     ]
    }
   ],
   "source": [
    "!MAX_WORKER=1 python rq2.py wasm-shrink"
   ]
  },
  {
   "cell_type": "code",
   "execution_count": 18,
   "metadata": {},
   "outputs": [],
   "source": [
    "!python rq4.py"
   ]
  },
  {
   "cell_type": "code",
   "execution_count": 4,
   "metadata": {},
   "outputs": [],
   "source": []
  }
 ],
 "metadata": {
  "kernelspec": {
   "display_name": "Python 3",
   "language": "python",
   "name": "python3"
  },
  "language_info": {
   "codemirror_mode": {
    "name": "ipython",
    "version": 3
   },
   "file_extension": ".py",
   "mimetype": "text/x-python",
   "name": "python",
   "nbconvert_exporter": "python",
   "pygments_lexer": "ipython3",
   "version": "3.12.4"
  }
 },
 "nbformat": 4,
 "nbformat_minor": 2
}
